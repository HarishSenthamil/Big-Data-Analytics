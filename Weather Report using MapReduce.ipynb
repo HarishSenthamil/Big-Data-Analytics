{
 "cells": [
  {
   "cell_type": "code",
   "execution_count": 2,
   "id": "a6cc61ec",
   "metadata": {},
   "outputs": [
    {
     "name": "stdout",
     "output_type": "stream",
     "text": [
      "Month with minimum temperature of 10 is january\n",
      "Month with maximum temperature of 46 is may\n"
     ]
    }
   ],
   "source": [
    "myfile = open(\"Downloads\\weatherdata.txt\")\n",
    "txt = myfile.read()\n",
    "months = []\n",
    "min_temp = []\n",
    "max_temp = []\n",
    "total_list = txt.split(\",\")\n",
    "for i in range(len(total_list)):\n",
    "    if i % 3 == 0:\n",
    "        months.append(total_list[i].strip(\"\\n\"))\n",
    "    elif i % 3 == 1:\n",
    "        min_temp.append(int(total_list[i]))\n",
    "    else:\n",
    "        max_temp.append(int(total_list[i]))\n",
    "minimum = min(min_temp)\n",
    "maximum = max(max_temp)\n",
    "print(\"Month with minimum temperature of {t} is {m}\".format(t=minimum, m=months[min_temp.index(minimum)]))\n",
    "print(\"Month with maximum temperature of {t} is {m}\".format(t=maximum, m=months[max_temp.index(maximum)]))\n",
    "myfile.close()\n"
   ]
  },
  {
   "cell_type": "code",
   "execution_count": null,
   "id": "0b629490",
   "metadata": {},
   "outputs": [],
   "source": []
  }
 ],
 "metadata": {
  "kernelspec": {
   "display_name": "Python 3",
   "language": "python",
   "name": "python3"
  },
  "language_info": {
   "codemirror_mode": {
    "name": "ipython",
    "version": 3
   },
   "file_extension": ".py",
   "mimetype": "text/x-python",
   "name": "python",
   "nbconvert_exporter": "python",
   "pygments_lexer": "ipython3",
   "version": "3.8.8"
  }
 },
 "nbformat": 4,
 "nbformat_minor": 5
}
