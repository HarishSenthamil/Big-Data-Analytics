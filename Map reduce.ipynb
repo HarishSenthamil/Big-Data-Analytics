{
 "cells": [
  {
   "cell_type": "code",
   "execution_count": 1,
   "id": "b476ccdf",
   "metadata": {},
   "outputs": [
    {
     "name": "stdout",
     "output_type": "stream",
     "text": [
      "hello: 3\n",
      "world: 3\n",
      "again: 1\n",
      "one: 1\n",
      "more: 1\n",
      "time: 1\n"
     ]
    }
   ],
   "source": [
    "from collections import defaultdict\n",
    "import string\n",
    "\n",
    "# Example text data\n",
    "text_data = [\n",
    "    \"Hello world\",\n",
    "    \"Hello again world\",\n",
    "    \"Hello world one more time\"\n",
    "]\n",
    "\n",
    "def word_count(text_data):\n",
    "    counts = defaultdict(int)\n",
    "    translator = str.maketrans('', '', string.punctuation)\n",
    "    \n",
    "    for text in text_data:\n",
    "        text = text.translate(translator).lower()\n",
    "        words = text.split()\n",
    "        for word in words:\n",
    "            counts[word] += 1\n",
    "            \n",
    "    return counts\n",
    "\n",
    "# Calculate word counts\n",
    "word_counts = word_count(text_data)\n",
    "\n",
    "# Output the word counts\n",
    "for word, count in word_counts.items():\n",
    "    print(f'{word}: {count}')\n"
   ]
  },
  {
   "cell_type": "code",
   "execution_count": 8,
   "id": "5221173a",
   "metadata": {},
   "outputs": [
    {
     "name": "stdout",
     "output_type": "stream",
     "text": [
      "Hello: 3\n",
      "world: 2\n",
      "again: 1\n",
      "hello: 2\n",
      "apple: 6\n",
      "banana: 3\n",
      "orange: 3\n"
     ]
    }
   ],
   "source": [
    "def mapper(data):\n",
    "    results = []\n",
    "    for line in data:\n",
    "        line = line.strip()\n",
    "        words = line.split()\n",
    "        for word in words:\n",
    "            results.append((word, 1))\n",
    "    return results\n",
    "\n",
    "from collections import defaultdict\n",
    "\n",
    "def reducer(mapped_results):\n",
    "    word_counts = defaultdict(int)\n",
    "    for word, count in mapped_results:\n",
    "        word_counts[word] += count\n",
    "    return word_counts.items()\n",
    "\n",
    "\n",
    "input_data = [\n",
    "    \"Hello world\",\n",
    "    \"Hello again world\",\n",
    "    \"Hello hello hello\",\n",
    "    \"apple banana apple\",\n",
    "    \"banana orange\",\n",
    "    \"apple orange apple\",\n",
    "    \"apple apple banana orange\"\n",
    "]\n",
    "\n",
    "mapped_results = mapper(input_data)\n",
    "\n",
    "\n",
    "reduced_results = reducer(mapped_results)\n",
    "\n",
    "for word, count in reduced_results:\n",
    "    print(f\"{word}: {count}\")\n"
   ]
  },
  {
   "cell_type": "code",
   "execution_count": null,
   "id": "a8be352c",
   "metadata": {},
   "outputs": [],
   "source": []
  },
  {
   "cell_type": "code",
   "execution_count": null,
   "id": "b860a1fe",
   "metadata": {},
   "outputs": [],
   "source": []
  }
 ],
 "metadata": {
  "kernelspec": {
   "display_name": "Python 3",
   "language": "python",
   "name": "python3"
  },
  "language_info": {
   "codemirror_mode": {
    "name": "ipython",
    "version": 3
   },
   "file_extension": ".py",
   "mimetype": "text/x-python",
   "name": "python",
   "nbconvert_exporter": "python",
   "pygments_lexer": "ipython3",
   "version": "3.8.8"
  }
 },
 "nbformat": 4,
 "nbformat_minor": 5
}
