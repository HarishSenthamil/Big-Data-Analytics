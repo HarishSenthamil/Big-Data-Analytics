{
 "cells": [
  {
   "cell_type": "code",
   "execution_count": 19,
   "id": "41f8f10f",
   "metadata": {},
   "outputs": [
    {
     "name": "stdout",
     "output_type": "stream",
     "text": [
      "Iteration 1: [0.25    0.14375 0.56875 0.0375 ]\n",
      "Iteration 2: [0.5209375 0.14375   0.2978125 0.0375   ]\n",
      "Iteration 3: [0.29064062 0.25889844 0.41296094 0.0375    ]\n",
      "Iteration 4: [0.3885168  0.16102227 0.41296094 0.0375    ]\n",
      "Iteration 5: [0.3885168  0.20261964 0.37136356 0.0375    ]\n",
      "Iteration 6: [0.35315903 0.20261964 0.40672133 0.0375    ]\n",
      "Iteration 7: [0.38321313 0.18759259 0.39169428 0.0375    ]\n",
      "Iteration 8: [0.37044014 0.20036558 0.39169428 0.0375    ]\n",
      "Iteration 9: [0.37044014 0.19493706 0.3971228  0.0375    ]\n",
      "Iteration 10: [0.37505438 0.19493706 0.39250856 0.0375    ]\n",
      "Iteration 11: [0.37113228 0.19689811 0.39446961 0.0375    ]\n",
      "Iteration 12: [0.37279917 0.19523122 0.39446961 0.0375    ]\n",
      "Iteration 13: [0.37279917 0.19593965 0.39376118 0.0375    ]\n",
      "Iteration 14: [0.372197   0.19593965 0.39436335 0.0375    ]\n",
      "Iteration 15: [0.37270885 0.19568373 0.39410743 0.0375    ]\n",
      "Iteration 16: [0.37249131 0.19590126 0.39410743 0.0375    ]\n",
      "Iteration 17: [0.37249131 0.19580881 0.39419988 0.0375    ]\n",
      "Iteration 18: [0.3725699  0.19580881 0.3941213  0.0375    ]\n",
      "Iteration 19: [0.3725031  0.19584221 0.39415469 0.0375    ]\n",
      "Iteration 20: [0.37253149 0.19581382 0.39415469 0.0375    ]\n",
      "Iteration 21: [0.37253149 0.19582588 0.39414263 0.0375    ]\n",
      "Iteration 22: [0.37252123 0.19582588 0.39415288 0.0375    ]\n",
      "Iteration 23: [0.37252995 0.19582152 0.39414852 0.0375    ]\n",
      "Iteration 24: [0.37252625 0.19582523 0.39414852 0.0375    ]\n",
      "Iteration 25: [0.37252625 0.19582365 0.3941501  0.0375    ]\n",
      "Iteration 26: [0.37252758 0.19582365 0.39414876 0.0375    ]\n",
      "Iteration 27: [0.37252645 0.19582422 0.39414933 0.0375    ]\n",
      "Iteration 28: [0.37252693 0.19582374 0.39414933 0.0375    ]\n",
      "Iteration 29: [0.37252693 0.19582395 0.39414912 0.0375    ]\n",
      "Iteration 30: [0.37252676 0.19582395 0.3941493  0.0375    ]\n",
      "Iteration 31: [0.3725269  0.19582387 0.39414922 0.0375    ]\n",
      "Iteration 32: [0.37252684 0.19582393 0.39414922 0.0375    ]\n",
      "Iteration 33: [0.37252684 0.19582391 0.39414925 0.0375    ]\n",
      "Iteration 34: [0.37252686 0.19582391 0.39414923 0.0375    ]\n",
      "Iteration 35: [0.37252684 0.19582392 0.39414924 0.0375    ]\n",
      "Iteration 36: [0.37252685 0.19582391 0.39414924 0.0375    ]\n",
      "Iteration 37: [0.37252685 0.19582391 0.39414923 0.0375    ]\n",
      "Iteration 38: [0.37252685 0.19582391 0.39414924 0.0375    ]\n",
      "Iteration 39: [0.37252685 0.19582391 0.39414924 0.0375    ]\n",
      "Iteration 40: [0.37252685 0.19582391 0.39414924 0.0375    ]\n",
      "Iteration 41: [0.37252685 0.19582391 0.39414924 0.0375    ]\n",
      "PageRank values have stabilized at iteration 41; stopping iterations.\n"
     ]
    }
   ],
   "source": [
    "import numpy as np\n",
    "\n",
    "def pagerank(M, num_iterations=100, d=0.85, tolerance=1e-9):\n",
    "    N = M.shape[1]\n",
    "    v = np.ones(N) / N  \n",
    "    M_hat = d * M + (1 - d) / N \n",
    "\n",
    "    for i in range(num_iterations):\n",
    "        v_next = M_hat @ v \n",
    "        print(f\"Iteration {i + 1}: {v_next}\")\n",
    "        if np.linalg.norm(v_next - v, ord=1) < tolerance:\n",
    "            print(f\"PageRank values have stabilized at iteration {i + 1}; stopping iterations.\")\n",
    "            break\n",
    "\n",
    "        v = v_next  \n",
    "\n",
    "    return v\n",
    "M = np.array([[0, 0, 1, 0],\n",
    "              [1/2, 0, 0, 0],\n",
    "              [1/2, 1, 0, 1],\n",
    "              [0, 0, 0, 0]])\n",
    "\n",
    "pagerank_values = pagerank(M, num_iterations=100) \n"
   ]
  }
 ],
 "metadata": {
  "kernelspec": {
   "display_name": "Python 3 (ipykernel)",
   "language": "python",
   "name": "python3"
  },
  "language_info": {
   "codemirror_mode": {
    "name": "ipython",
    "version": 3
   },
   "file_extension": ".py",
   "mimetype": "text/x-python",
   "name": "python",
   "nbconvert_exporter": "python",
   "pygments_lexer": "ipython3",
   "version": "3.11.4"
  }
 },
 "nbformat": 4,
 "nbformat_minor": 5
}
